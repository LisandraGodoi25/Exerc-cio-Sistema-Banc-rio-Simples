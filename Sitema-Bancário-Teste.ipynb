{
 "cells": [
  {
   "cell_type": "markdown",
   "id": "e21b1caf",
   "metadata": {},
   "source": [
    "# Testes Sistema Bancário"
   ]
  },
  {
   "cell_type": "code",
   "execution_count": 3,
   "id": "09ac08d7",
   "metadata": {},
   "outputs": [
    {
     "name": "stdout",
     "output_type": "stream",
     "text": [
      "727\n",
      "811\n"
     ]
    }
   ],
   "source": [
    "saldo = 0\n",
    "\n",
    "def depositar(valor):\n",
    "    global saldo\n",
    "    saldo += valor\n",
    "    return \n",
    "    \n",
    "depositar(727)\n",
    "print(saldo)\n",
    "\n",
    "depositar(84)\n",
    "print(saldo)\n"
   ]
  },
  {
   "cell_type": "markdown",
   "id": "3852054c",
   "metadata": {},
   "source": [
    "O sistema deve permitir 3 saques diários com limite de 500 reais por saque. \n",
    "\n",
    "Se o usuário não tiver saldo, precisa-se enviar uma mensagem informando.\n",
    "\n",
    "Todos os saques devem ser armazenados em uma variável saque para extrato."
   ]
  },
  {
   "cell_type": "code",
   "execution_count": 4,
   "id": "74fa8ff9",
   "metadata": {},
   "outputs": [
    {
     "name": "stdout",
     "output_type": "stream",
     "text": [
      "Valor de Saque 598 \n",
      "\n"
     ]
    }
   ],
   "source": [
    "from random import randint\n",
    "\n",
    "saldo = 600\n",
    "limite = 500\n",
    "extrato = \"\"\n",
    "numeros_saques = 0\n",
    "LIMITE_SAQUES = 3\n",
    "\n",
    "\n",
    "valorsaque = randint(200,700)\n",
    "print(\"Valor de Saque\", valorsaque,\"\\n\")\n",
    "\n",
    "def sacar(valorsaque):\n",
    "        global numeros_saques \n",
    "        global saldo\n",
    "        numeros_saques += 1\n",
    "\n",
    "        if valorsaque <= saldo:\n",
    "            saldo -= valorsaque\n",
    "        else: \n",
    "            print(\"Saldo Indisponivel\")\n",
    "\n",
    "\n",
    "sacar(valorsaque)\n",
    "    "
   ]
  }
 ],
 "metadata": {
  "kernelspec": {
   "display_name": "Python 3",
   "language": "python",
   "name": "python3"
  },
  "language_info": {
   "codemirror_mode": {
    "name": "ipython",
    "version": 3
   },
   "file_extension": ".py",
   "mimetype": "text/x-python",
   "name": "python",
   "nbconvert_exporter": "python",
   "pygments_lexer": "ipython3",
   "version": "3.13.5"
  }
 },
 "nbformat": 4,
 "nbformat_minor": 5
}
